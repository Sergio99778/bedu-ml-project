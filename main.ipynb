{
 "cells": [
  {
   "cell_type": "markdown",
   "metadata": {},
   "source": [
    "# Inicio del procesado de datos por parte del equipo dinamita >:D"
   ]
  },
  {
   "cell_type": "code",
   "execution_count": 107,
   "metadata": {},
   "outputs": [],
   "source": [
    "# from sklearn.model_selection import train_test_split\n",
    "import pandas as pd\n",
    "import numpy as np\n",
    "# import matplotlib.pyplot as plt\n",
    "# import seaborn as sns\n"
   ]
  },
  {
   "cell_type": "code",
   "execution_count": 108,
   "metadata": {},
   "outputs": [],
   "source": [
    "\n",
    "# commands to install packages\n",
    "# !pip install pandas\n",
    "# !pip install numpy\n",
    "# !pip install matplotlib\n",
    "\n",
    "# !pip install seaborn\n"
   ]
  },
  {
   "cell_type": "code",
   "execution_count": 109,
   "metadata": {},
   "outputs": [],
   "source": [
    "\n",
    "# !pip install -U seaborn\n"
   ]
  },
  {
   "cell_type": "code",
   "execution_count": 110,
   "metadata": {},
   "outputs": [],
   "source": [
    "from sklearn.model_selection import train_test_split\n",
    "import pandas as pd\n",
    "import numpy as np\n",
    "import matplotlib.pyplot as plt\n",
    "import seaborn as sns"
   ]
  },
  {
   "cell_type": "code",
   "execution_count": 111,
   "metadata": {},
   "outputs": [
    {
     "data": {
      "text/html": [
       "<div>\n",
       "<style scoped>\n",
       "    .dataframe tbody tr th:only-of-type {\n",
       "        vertical-align: middle;\n",
       "    }\n",
       "\n",
       "    .dataframe tbody tr th {\n",
       "        vertical-align: top;\n",
       "    }\n",
       "\n",
       "    .dataframe thead th {\n",
       "        text-align: right;\n",
       "    }\n",
       "</style>\n",
       "<table border=\"1\" class=\"dataframe\">\n",
       "  <thead>\n",
       "    <tr style=\"text-align: right;\">\n",
       "      <th></th>\n",
       "      <th>codigo</th>\n",
       "      <th>tipo_propiedad</th>\n",
       "      <th>tipo_operacion</th>\n",
       "      <th>precio_venta</th>\n",
       "      <th>precio_arriendo</th>\n",
       "      <th>area</th>\n",
       "      <th>habitaciones</th>\n",
       "      <th>banos</th>\n",
       "      <th>administracion</th>\n",
       "      <th>parqueaderos</th>\n",
       "      <th>...</th>\n",
       "      <th>permite_mascotas</th>\n",
       "      <th>gimnasio</th>\n",
       "      <th>ascensor</th>\n",
       "      <th>conjunto_cerrado</th>\n",
       "      <th>coords_modified</th>\n",
       "      <th>localidad</th>\n",
       "      <th>barrio</th>\n",
       "      <th>estacion_tm_cercana</th>\n",
       "      <th>distancia_estacion_tm_m</th>\n",
       "      <th>is_cerca_estacion_tm</th>\n",
       "    </tr>\n",
       "  </thead>\n",
       "  <tbody>\n",
       "    <tr>\n",
       "      <th>0</th>\n",
       "      <td>374-M2718950</td>\n",
       "      <td>APARTAMENTO</td>\n",
       "      <td>VENTA Y ARRIENDO</td>\n",
       "      <td>2.500000e+09</td>\n",
       "      <td>13500000.0</td>\n",
       "      <td>320.0</td>\n",
       "      <td>4.0</td>\n",
       "      <td>5.0</td>\n",
       "      <td>2500000.0</td>\n",
       "      <td>3.0</td>\n",
       "      <td>...</td>\n",
       "      <td>1</td>\n",
       "      <td>1</td>\n",
       "      <td>1</td>\n",
       "      <td>1</td>\n",
       "      <td>False</td>\n",
       "      <td>USAQUEN</td>\n",
       "      <td>CIUDADELA REAL</td>\n",
       "      <td>Alcalá</td>\n",
       "      <td>2798.74</td>\n",
       "      <td>0</td>\n",
       "    </tr>\n",
       "    <tr>\n",
       "      <th>1</th>\n",
       "      <td>2510-M4156145</td>\n",
       "      <td>APARTAMENTO</td>\n",
       "      <td>VENTA</td>\n",
       "      <td>4.850000e+08</td>\n",
       "      <td>NaN</td>\n",
       "      <td>84.0</td>\n",
       "      <td>3.0</td>\n",
       "      <td>3.0</td>\n",
       "      <td>680000.0</td>\n",
       "      <td>1.0</td>\n",
       "      <td>...</td>\n",
       "      <td>0</td>\n",
       "      <td>0</td>\n",
       "      <td>1</td>\n",
       "      <td>1</td>\n",
       "      <td>False</td>\n",
       "      <td>USAQUEN</td>\n",
       "      <td>SAN PATRICIO</td>\n",
       "      <td>Pepe Sierra</td>\n",
       "      <td>1135.12</td>\n",
       "      <td>0</td>\n",
       "    </tr>\n",
       "    <tr>\n",
       "      <th>2</th>\n",
       "      <td>10312-M2873283</td>\n",
       "      <td>APARTAMENTO</td>\n",
       "      <td>VENTA Y ARRIENDO</td>\n",
       "      <td>1.980000e+09</td>\n",
       "      <td>9000000.0</td>\n",
       "      <td>248.0</td>\n",
       "      <td>3.0</td>\n",
       "      <td>3.0</td>\n",
       "      <td>2200000.0</td>\n",
       "      <td>3.0</td>\n",
       "      <td>...</td>\n",
       "      <td>1</td>\n",
       "      <td>0</td>\n",
       "      <td>1</td>\n",
       "      <td>1</td>\n",
       "      <td>False</td>\n",
       "      <td>USAQUEN</td>\n",
       "      <td>CERROS DE SANTA BARBARA</td>\n",
       "      <td>Calle 106</td>\n",
       "      <td>3138.91</td>\n",
       "      <td>0</td>\n",
       "    </tr>\n",
       "    <tr>\n",
       "      <th>3</th>\n",
       "      <td>10139-M4343016</td>\n",
       "      <td>APARTAMENTO</td>\n",
       "      <td>VENTA</td>\n",
       "      <td>4.950000e+08</td>\n",
       "      <td>NaN</td>\n",
       "      <td>77.2</td>\n",
       "      <td>3.0</td>\n",
       "      <td>2.0</td>\n",
       "      <td>367000.0</td>\n",
       "      <td>1.0</td>\n",
       "      <td>...</td>\n",
       "      <td>1</td>\n",
       "      <td>1</td>\n",
       "      <td>1</td>\n",
       "      <td>1</td>\n",
       "      <td>False</td>\n",
       "      <td>SUBA</td>\n",
       "      <td>CAMPOS DE SILENCIO</td>\n",
       "      <td>Cardio Infantil</td>\n",
       "      <td>936.00</td>\n",
       "      <td>0</td>\n",
       "    </tr>\n",
       "    <tr>\n",
       "      <th>4</th>\n",
       "      <td>10139-M3692828</td>\n",
       "      <td>APARTAMENTO</td>\n",
       "      <td>VENTA</td>\n",
       "      <td>1.570000e+09</td>\n",
       "      <td>NaN</td>\n",
       "      <td>213.0</td>\n",
       "      <td>3.0</td>\n",
       "      <td>4.0</td>\n",
       "      <td>994000.0</td>\n",
       "      <td>3.0</td>\n",
       "      <td>...</td>\n",
       "      <td>0</td>\n",
       "      <td>1</td>\n",
       "      <td>1</td>\n",
       "      <td>1</td>\n",
       "      <td>False</td>\n",
       "      <td>USAQUEN</td>\n",
       "      <td>GINEBRA</td>\n",
       "      <td>Prado Veraniego</td>\n",
       "      <td>2766.29</td>\n",
       "      <td>0</td>\n",
       "    </tr>\n",
       "  </tbody>\n",
       "</table>\n",
       "<p>5 rows × 38 columns</p>\n",
       "</div>"
      ],
      "text/plain": [
       "           codigo tipo_propiedad    tipo_operacion  precio_venta  \\\n",
       "0    374-M2718950    APARTAMENTO  VENTA Y ARRIENDO  2.500000e+09   \n",
       "1   2510-M4156145    APARTAMENTO             VENTA  4.850000e+08   \n",
       "2  10312-M2873283    APARTAMENTO  VENTA Y ARRIENDO  1.980000e+09   \n",
       "3  10139-M4343016    APARTAMENTO             VENTA  4.950000e+08   \n",
       "4  10139-M3692828    APARTAMENTO             VENTA  1.570000e+09   \n",
       "\n",
       "   precio_arriendo   area  habitaciones  banos  administracion  parqueaderos  \\\n",
       "0       13500000.0  320.0           4.0    5.0       2500000.0           3.0   \n",
       "1              NaN   84.0           3.0    3.0        680000.0           1.0   \n",
       "2        9000000.0  248.0           3.0    3.0       2200000.0           3.0   \n",
       "3              NaN   77.2           3.0    2.0        367000.0           1.0   \n",
       "4              NaN  213.0           3.0    4.0        994000.0           3.0   \n",
       "\n",
       "   ... permite_mascotas  gimnasio ascensor conjunto_cerrado  coords_modified  \\\n",
       "0  ...                1         1        1                1            False   \n",
       "1  ...                0         0        1                1            False   \n",
       "2  ...                1         0        1                1            False   \n",
       "3  ...                1         1        1                1            False   \n",
       "4  ...                0         1        1                1            False   \n",
       "\n",
       "   localidad                   barrio estacion_tm_cercana  \\\n",
       "0    USAQUEN           CIUDADELA REAL              Alcalá   \n",
       "1    USAQUEN             SAN PATRICIO         Pepe Sierra   \n",
       "2    USAQUEN  CERROS DE SANTA BARBARA           Calle 106   \n",
       "3       SUBA       CAMPOS DE SILENCIO     Cardio Infantil   \n",
       "4    USAQUEN                  GINEBRA     Prado Veraniego   \n",
       "\n",
       "  distancia_estacion_tm_m is_cerca_estacion_tm  \n",
       "0                 2798.74                    0  \n",
       "1                 1135.12                    0  \n",
       "2                 3138.91                    0  \n",
       "3                  936.00                    0  \n",
       "4                 2766.29                    0  \n",
       "\n",
       "[5 rows x 38 columns]"
      ]
     },
     "execution_count": 111,
     "metadata": {},
     "output_type": "execute_result"
    }
   ],
   "source": [
    "apartments = pd.read_csv('apartments.csv')\n",
    "apartments.head()"
   ]
  },
  {
   "cell_type": "code",
   "execution_count": 112,
   "metadata": {},
   "outputs": [
    {
     "data": {
      "text/plain": [
       "0    vendo o arriendo ph duplex montearroyo, 320 mt...\n",
       "1    oportunidad, bonito apartamento, recien refacc...\n",
       "2    presentamos espectacular apartamento en uno de...\n",
       "3    lindo apartamento, con 3 habitaciones 2 banos,...\n",
       "4    vendo o arriendo iraka t 4 apto 201  213m mas ...\n",
       "Name: descripcion, dtype: object"
      ]
     },
     "execution_count": 112,
     "metadata": {},
     "output_type": "execute_result"
    }
   ],
   "source": [
    "apartments_descriptions = apartments['descripcion']\n",
    "apartments_descriptions.head()"
   ]
  },
  {
   "cell_type": "code",
   "execution_count": 113,
   "metadata": {},
   "outputs": [
    {
     "name": "stdout",
     "output_type": "stream",
     "text": [
      "Index(['codigo', 'tipo_propiedad', 'tipo_operacion', 'precio_venta',\n",
      "       'precio_arriendo', 'area', 'habitaciones', 'banos', 'administracion',\n",
      "       'parqueaderos', 'sector', 'estrato', 'antiguedad', 'estado', 'longitud',\n",
      "       'latitud', 'descripcion', 'datetime', 'website', 'compañia',\n",
      "       'fecha_actualizacion_precio_venta', 'precio_venta_anterior',\n",
      "       'fecha_actualizacion_precio_arriendo', 'precio_arriendo_anterior',\n",
      "       'jacuzzi', 'piso', 'closets', 'chimenea', 'permite_mascotas',\n",
      "       'gimnasio', 'ascensor', 'conjunto_cerrado', 'coords_modified',\n",
      "       'localidad', 'barrio', 'estacion_tm_cercana', 'distancia_estacion_tm_m',\n",
      "       'is_cerca_estacion_tm'],\n",
      "      dtype='object')\n"
     ]
    }
   ],
   "source": [
    "#  print all columns for apartments\n",
    "columns = apartments.columns\n",
    "print(columns)"
   ]
  },
  {
   "cell_type": "code",
   "execution_count": 114,
   "metadata": {},
   "outputs": [
    {
     "name": "stdout",
     "output_type": "stream",
     "text": [
      "(63245, 38)\n"
     ]
    }
   ],
   "source": [
    "# dimensions\n",
    "print(apartments.shape)"
   ]
  },
  {
   "cell_type": "code",
   "execution_count": 115,
   "metadata": {},
   "outputs": [],
   "source": [
    "# Remove appartments with price = 0 or null, nan\n",
    "apartments = apartments[apartments['precio_venta'] > 0]\n",
    "apartments = apartments[apartments['precio_venta'].notnull()]\n",
    "apartments = apartments[apartments['precio_venta'].notna()]"
   ]
  },
  {
   "cell_type": "code",
   "execution_count": 116,
   "metadata": {},
   "outputs": [],
   "source": [
    "# Extract X and Y to predict price\n",
    "# Columns\n",
    "# Index(['codigo', 'tipo_propiedad', 'tipo_operacion', 'precio_venta',\n",
    "#        'precio_arriendo', 'area', 'habitaciones', 'banos', 'administracion',\n",
    "#        'parqueaderos', 'sector', 'estrato', 'antiguedad', 'estado', 'longitud',\n",
    "#        'latitud', 'descripcion', 'datetime', 'website', 'compañia',\n",
    "#        'fecha_actualizacion_precio_venta', 'precio_venta_anterior',\n",
    "#        'fecha_actualizacion_precio_arriendo', 'precio_arriendo_anterior',\n",
    "#        'jacuzzi', 'piso', 'closets', 'chimenea', 'permite_mascotas',\n",
    "#        'gimnasio', 'ascensor', 'conjunto_cerrado', 'coords_modified',\n",
    "#        'localidad', 'barrio', 'estacion_tm_cercana', 'distancia_estacion_tm_m',\n",
    "#        'is_cerca_estacion_tm'],\n",
    "#       dtype='object')\n",
    "\n",
    "# Removed antiguedad, 'jacuzzi', 'chimenea', 'permite_mascotas', 'gimnasio', 'ascensor', 'conjunto_cerrado', 'is_cerca_estacion_tm'\n",
    "X = apartments[['area', 'habitaciones', 'banos', 'parqueaderos', 'estrato', ]]\n",
    "Y = apartments['precio_venta']\n",
    "# Fill NaN with 0\n",
    "X = X.fillna(0)\n",
    "\n"
   ]
  },
  {
   "cell_type": "code",
   "execution_count": 117,
   "metadata": {},
   "outputs": [
    {
     "data": {
      "text/html": [
       "<div>\n",
       "<style scoped>\n",
       "    .dataframe tbody tr th:only-of-type {\n",
       "        vertical-align: middle;\n",
       "    }\n",
       "\n",
       "    .dataframe tbody tr th {\n",
       "        vertical-align: top;\n",
       "    }\n",
       "\n",
       "    .dataframe thead th {\n",
       "        text-align: right;\n",
       "    }\n",
       "</style>\n",
       "<table border=\"1\" class=\"dataframe\">\n",
       "  <thead>\n",
       "    <tr style=\"text-align: right;\">\n",
       "      <th></th>\n",
       "      <th>area</th>\n",
       "      <th>habitaciones</th>\n",
       "      <th>banos</th>\n",
       "      <th>parqueaderos</th>\n",
       "      <th>estrato</th>\n",
       "    </tr>\n",
       "  </thead>\n",
       "  <tbody>\n",
       "    <tr>\n",
       "      <th>0</th>\n",
       "      <td>320.0</td>\n",
       "      <td>4.0</td>\n",
       "      <td>5.0</td>\n",
       "      <td>3.0</td>\n",
       "      <td>6.0</td>\n",
       "    </tr>\n",
       "    <tr>\n",
       "      <th>1</th>\n",
       "      <td>84.0</td>\n",
       "      <td>3.0</td>\n",
       "      <td>3.0</td>\n",
       "      <td>1.0</td>\n",
       "      <td>6.0</td>\n",
       "    </tr>\n",
       "    <tr>\n",
       "      <th>2</th>\n",
       "      <td>248.0</td>\n",
       "      <td>3.0</td>\n",
       "      <td>3.0</td>\n",
       "      <td>3.0</td>\n",
       "      <td>6.0</td>\n",
       "    </tr>\n",
       "    <tr>\n",
       "      <th>3</th>\n",
       "      <td>77.2</td>\n",
       "      <td>3.0</td>\n",
       "      <td>2.0</td>\n",
       "      <td>1.0</td>\n",
       "      <td>4.0</td>\n",
       "    </tr>\n",
       "    <tr>\n",
       "      <th>4</th>\n",
       "      <td>213.0</td>\n",
       "      <td>3.0</td>\n",
       "      <td>4.0</td>\n",
       "      <td>3.0</td>\n",
       "      <td>3.0</td>\n",
       "    </tr>\n",
       "  </tbody>\n",
       "</table>\n",
       "</div>"
      ],
      "text/plain": [
       "    area  habitaciones  banos  parqueaderos  estrato\n",
       "0  320.0           4.0    5.0           3.0      6.0\n",
       "1   84.0           3.0    3.0           1.0      6.0\n",
       "2  248.0           3.0    3.0           3.0      6.0\n",
       "3   77.2           3.0    2.0           1.0      4.0\n",
       "4  213.0           3.0    4.0           3.0      3.0"
      ]
     },
     "execution_count": 117,
     "metadata": {},
     "output_type": "execute_result"
    }
   ],
   "source": [
    "X.head()"
   ]
  },
  {
   "cell_type": "code",
   "execution_count": 118,
   "metadata": {},
   "outputs": [
    {
     "name": "stdout",
     "output_type": "stream",
     "text": [
      "0\n"
     ]
    }
   ],
   "source": [
    "\n",
    "# Print nan values\n",
    "print(Y.isnull().sum())\n"
   ]
  },
  {
   "cell_type": "code",
   "execution_count": 119,
   "metadata": {},
   "outputs": [
    {
     "data": {
      "text/html": [
       "<div>\n",
       "<style scoped>\n",
       "    .dataframe tbody tr th:only-of-type {\n",
       "        vertical-align: middle;\n",
       "    }\n",
       "\n",
       "    .dataframe tbody tr th {\n",
       "        vertical-align: top;\n",
       "    }\n",
       "\n",
       "    .dataframe thead th {\n",
       "        text-align: right;\n",
       "    }\n",
       "</style>\n",
       "<table border=\"1\" class=\"dataframe\">\n",
       "  <thead>\n",
       "    <tr style=\"text-align: right;\">\n",
       "      <th></th>\n",
       "      <th>area</th>\n",
       "      <th>habitaciones</th>\n",
       "      <th>banos</th>\n",
       "      <th>parqueaderos</th>\n",
       "      <th>estrato</th>\n",
       "    </tr>\n",
       "  </thead>\n",
       "  <tbody>\n",
       "    <tr>\n",
       "      <th>0</th>\n",
       "      <td>320.0</td>\n",
       "      <td>4.0</td>\n",
       "      <td>5.0</td>\n",
       "      <td>3.0</td>\n",
       "      <td>6.0</td>\n",
       "    </tr>\n",
       "    <tr>\n",
       "      <th>1</th>\n",
       "      <td>84.0</td>\n",
       "      <td>3.0</td>\n",
       "      <td>3.0</td>\n",
       "      <td>1.0</td>\n",
       "      <td>6.0</td>\n",
       "    </tr>\n",
       "    <tr>\n",
       "      <th>2</th>\n",
       "      <td>248.0</td>\n",
       "      <td>3.0</td>\n",
       "      <td>3.0</td>\n",
       "      <td>3.0</td>\n",
       "      <td>6.0</td>\n",
       "    </tr>\n",
       "    <tr>\n",
       "      <th>3</th>\n",
       "      <td>77.2</td>\n",
       "      <td>3.0</td>\n",
       "      <td>2.0</td>\n",
       "      <td>1.0</td>\n",
       "      <td>4.0</td>\n",
       "    </tr>\n",
       "    <tr>\n",
       "      <th>4</th>\n",
       "      <td>213.0</td>\n",
       "      <td>3.0</td>\n",
       "      <td>4.0</td>\n",
       "      <td>3.0</td>\n",
       "      <td>3.0</td>\n",
       "    </tr>\n",
       "  </tbody>\n",
       "</table>\n",
       "</div>"
      ],
      "text/plain": [
       "    area  habitaciones  banos  parqueaderos  estrato\n",
       "0  320.0           4.0    5.0           3.0      6.0\n",
       "1   84.0           3.0    3.0           1.0      6.0\n",
       "2  248.0           3.0    3.0           3.0      6.0\n",
       "3   77.2           3.0    2.0           1.0      4.0\n",
       "4  213.0           3.0    4.0           3.0      3.0"
      ]
     },
     "execution_count": 119,
     "metadata": {},
     "output_type": "execute_result"
    }
   ],
   "source": [
    "X.head()"
   ]
  },
  {
   "cell_type": "code",
   "execution_count": 120,
   "metadata": {},
   "outputs": [
    {
     "name": "stdout",
     "output_type": "stream",
     "text": [
      "1510209058.8843825\n"
     ]
    }
   ],
   "source": [
    "#  average Y\n",
    "print(Y.mean())"
   ]
  },
  {
   "cell_type": "code",
   "execution_count": 121,
   "metadata": {},
   "outputs": [],
   "source": [
    "from sklearn.linear_model import SGDRegressor\n",
    "from sklearn.pipeline import make_pipeline\n",
    "from sklearn.preprocessing import StandardScaler\n"
   ]
  },
  {
   "cell_type": "code",
   "execution_count": 122,
   "metadata": {},
   "outputs": [],
   "source": [
    "# remove X headers"
   ]
  },
  {
   "cell_type": "code",
   "execution_count": 123,
   "metadata": {},
   "outputs": [
    {
     "data": {
      "text/html": [
       "<style>#sk-container-id-3 {color: black;}#sk-container-id-3 pre{padding: 0;}#sk-container-id-3 div.sk-toggleable {background-color: white;}#sk-container-id-3 label.sk-toggleable__label {cursor: pointer;display: block;width: 100%;margin-bottom: 0;padding: 0.3em;box-sizing: border-box;text-align: center;}#sk-container-id-3 label.sk-toggleable__label-arrow:before {content: \"▸\";float: left;margin-right: 0.25em;color: #696969;}#sk-container-id-3 label.sk-toggleable__label-arrow:hover:before {color: black;}#sk-container-id-3 div.sk-estimator:hover label.sk-toggleable__label-arrow:before {color: black;}#sk-container-id-3 div.sk-toggleable__content {max-height: 0;max-width: 0;overflow: hidden;text-align: left;background-color: #f0f8ff;}#sk-container-id-3 div.sk-toggleable__content pre {margin: 0.2em;color: black;border-radius: 0.25em;background-color: #f0f8ff;}#sk-container-id-3 input.sk-toggleable__control:checked~div.sk-toggleable__content {max-height: 200px;max-width: 100%;overflow: auto;}#sk-container-id-3 input.sk-toggleable__control:checked~label.sk-toggleable__label-arrow:before {content: \"▾\";}#sk-container-id-3 div.sk-estimator input.sk-toggleable__control:checked~label.sk-toggleable__label {background-color: #d4ebff;}#sk-container-id-3 div.sk-label input.sk-toggleable__control:checked~label.sk-toggleable__label {background-color: #d4ebff;}#sk-container-id-3 input.sk-hidden--visually {border: 0;clip: rect(1px 1px 1px 1px);clip: rect(1px, 1px, 1px, 1px);height: 1px;margin: -1px;overflow: hidden;padding: 0;position: absolute;width: 1px;}#sk-container-id-3 div.sk-estimator {font-family: monospace;background-color: #f0f8ff;border: 1px dotted black;border-radius: 0.25em;box-sizing: border-box;margin-bottom: 0.5em;}#sk-container-id-3 div.sk-estimator:hover {background-color: #d4ebff;}#sk-container-id-3 div.sk-parallel-item::after {content: \"\";width: 100%;border-bottom: 1px solid gray;flex-grow: 1;}#sk-container-id-3 div.sk-label:hover label.sk-toggleable__label {background-color: #d4ebff;}#sk-container-id-3 div.sk-serial::before {content: \"\";position: absolute;border-left: 1px solid gray;box-sizing: border-box;top: 0;bottom: 0;left: 50%;z-index: 0;}#sk-container-id-3 div.sk-serial {display: flex;flex-direction: column;align-items: center;background-color: white;padding-right: 0.2em;padding-left: 0.2em;position: relative;}#sk-container-id-3 div.sk-item {position: relative;z-index: 1;}#sk-container-id-3 div.sk-parallel {display: flex;align-items: stretch;justify-content: center;background-color: white;position: relative;}#sk-container-id-3 div.sk-item::before, #sk-container-id-3 div.sk-parallel-item::before {content: \"\";position: absolute;border-left: 1px solid gray;box-sizing: border-box;top: 0;bottom: 0;left: 50%;z-index: -1;}#sk-container-id-3 div.sk-parallel-item {display: flex;flex-direction: column;z-index: 1;position: relative;background-color: white;}#sk-container-id-3 div.sk-parallel-item:first-child::after {align-self: flex-end;width: 50%;}#sk-container-id-3 div.sk-parallel-item:last-child::after {align-self: flex-start;width: 50%;}#sk-container-id-3 div.sk-parallel-item:only-child::after {width: 0;}#sk-container-id-3 div.sk-dashed-wrapped {border: 1px dashed gray;margin: 0 0.4em 0.5em 0.4em;box-sizing: border-box;padding-bottom: 0.4em;background-color: white;}#sk-container-id-3 div.sk-label label {font-family: monospace;font-weight: bold;display: inline-block;line-height: 1.2em;}#sk-container-id-3 div.sk-label-container {text-align: center;}#sk-container-id-3 div.sk-container {/* jupyter's `normalize.less` sets `[hidden] { display: none; }` but bootstrap.min.css set `[hidden] { display: none !important; }` so we also need the `!important` here to be able to override the default hidden behavior on the sphinx rendered scikit-learn.org. See: https://github.com/scikit-learn/scikit-learn/issues/21755 */display: inline-block !important;position: relative;}#sk-container-id-3 div.sk-text-repr-fallback {display: none;}</style><div id=\"sk-container-id-3\" class=\"sk-top-container\"><div class=\"sk-text-repr-fallback\"><pre>Pipeline(steps=[(&#x27;standardscaler&#x27;, StandardScaler()),\n",
       "                (&#x27;sgdregressor&#x27;, SGDRegressor())])</pre><b>In a Jupyter environment, please rerun this cell to show the HTML representation or trust the notebook. <br />On GitHub, the HTML representation is unable to render, please try loading this page with nbviewer.org.</b></div><div class=\"sk-container\" hidden><div class=\"sk-item sk-dashed-wrapped\"><div class=\"sk-label-container\"><div class=\"sk-label sk-toggleable\"><input class=\"sk-toggleable__control sk-hidden--visually\" id=\"sk-estimator-id-7\" type=\"checkbox\" ><label for=\"sk-estimator-id-7\" class=\"sk-toggleable__label sk-toggleable__label-arrow\">Pipeline</label><div class=\"sk-toggleable__content\"><pre>Pipeline(steps=[(&#x27;standardscaler&#x27;, StandardScaler()),\n",
       "                (&#x27;sgdregressor&#x27;, SGDRegressor())])</pre></div></div></div><div class=\"sk-serial\"><div class=\"sk-item\"><div class=\"sk-estimator sk-toggleable\"><input class=\"sk-toggleable__control sk-hidden--visually\" id=\"sk-estimator-id-8\" type=\"checkbox\" ><label for=\"sk-estimator-id-8\" class=\"sk-toggleable__label sk-toggleable__label-arrow\">StandardScaler</label><div class=\"sk-toggleable__content\"><pre>StandardScaler()</pre></div></div></div><div class=\"sk-item\"><div class=\"sk-estimator sk-toggleable\"><input class=\"sk-toggleable__control sk-hidden--visually\" id=\"sk-estimator-id-9\" type=\"checkbox\" ><label for=\"sk-estimator-id-9\" class=\"sk-toggleable__label sk-toggleable__label-arrow\">SGDRegressor</label><div class=\"sk-toggleable__content\"><pre>SGDRegressor()</pre></div></div></div></div></div></div></div>"
      ],
      "text/plain": [
       "Pipeline(steps=[('standardscaler', StandardScaler()),\n",
       "                ('sgdregressor', SGDRegressor())])"
      ]
     },
     "execution_count": 123,
     "metadata": {},
     "output_type": "execute_result"
    }
   ],
   "source": [
    "\n",
    "n_samples, n_features = 10, 5\n",
    "rng = np.random.RandomState(0)\n",
    "# Always scale the input. The most convenient way is to use a pipeline.\n",
    "reg = make_pipeline(StandardScaler(),\n",
    "                    SGDRegressor(max_iter=1000, tol=1e-3))\n",
    "reg.fit(X, Y)\n"
   ]
  },
  {
   "cell_type": "code",
   "execution_count": 125,
   "metadata": {},
   "outputs": [
    {
     "name": "stdout",
     "output_type": "stream",
     "text": [
      "158291724\n"
     ]
    },
    {
     "name": "stderr",
     "output_type": "stream",
     "text": [
      "c:\\Users\\Sergio99778\\Documents\\bedu\\.venv\\Lib\\site-packages\\sklearn\\base.py:465: UserWarning: X does not have valid feature names, but StandardScaler was fitted with feature names\n",
      "  warnings.warn(\n",
      "C:\\Users\\Sergio99778\\AppData\\Local\\Temp\\ipykernel_5944\\2180201706.py:3: DeprecationWarning: Conversion of an array with ndim > 0 to a scalar is deprecated, and will error in future. Ensure you extract a single element from your array before performing this operation. (Deprecated NumPy 1.25.)\n",
      "  print(int(reg.predict([[300, 2, 1, 1, 3]])))\n"
     ]
    }
   ],
   "source": [
    "\n",
    "# Print without scientific notation\n",
    "np.set_printoptions(suppress=True)\n",
    "print(int(reg.predict([[300, 2, 1, 1, 3]])))"
   ]
  },
  {
   "cell_type": "code",
   "execution_count": 127,
   "metadata": {},
   "outputs": [
    {
     "data": {
      "text/plain": [
       "[<matplotlib.lines.Line2D at 0x1d068028a50>]"
      ]
     },
     "execution_count": 127,
     "metadata": {},
     "output_type": "execute_result"
    },
    {
     "data": {
      "image/png": "[encoded data removed]",
      "text/plain": [
       "<Figure size 640x480 with 1 Axes>"
      ]
     },
     "metadata": {},
     "output_type": "display_data"
    }
   ],
   "source": [
    "# X['area] values with matplotlib\n",
    "plt.scatter(X['area'], Y,  color='black')\n",
    "plt.plot(X['area'], reg.predict(X), color='blue', linewidth=3)\n",
    "\n",
    "\n"
   ]
  }
 ],
 "metadata": {
  "kernelspec": {
   "display_name": "Python 3",
   "language": "python",
   "name": "python3"
  },
  "language_info": {
   "codemirror_mode": {
    "name": "ipython",
    "version": 3
   },
   "file_extension": ".py",
   "mimetype": "text/x-python",
   "name": "python",
   "nbconvert_exporter": "python",
   "pygments_lexer": "ipython3",
   "version": "3.11.5"
  },
  "orig_nbformat": 4
 },
 "nbformat": 4,
 "nbformat_minor": 2
}
